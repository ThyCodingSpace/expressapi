{
 "cells": [
  {
   "cell_type": "code",
   "execution_count": null,
   "metadata": {
    "dotnet_interactive": {
     "language": "csharp"
    },
    "polyglot_notebook": {
     "kernelName": "csharp"
    },
    "vscode": {
     "languageId": "polyglot-notebook"
    }
   },
   "outputs": [],
   "source": [
    "def count_well_structured_words(S: str) -> int:\n",
    "    vowels = set(\"AEIOU\")\n",
    "    consonants = set(\"BCDFGHJKLMNPQRSTVWXYZ\")  # 'Y' is considered a consonant\n",
    "\n",
    "    n = len(S)\n",
    "    char_types = []\n",
    "\n",
    "    # Classify characters in S as either 'vowel' or 'consonant'\n",
    "    for char in S:\n",
    "        if char in vowels:\n",
    "            char_types.append('vowel')\n",
    "        else:\n",
    "            char_types.append('consonant')\n",
    "\n",
    "    # Initialize DP table\n",
    "    dp = [[[0, 0] for _ in range(n)] for _ in range(n+1)]\n",
    "    \n",
    "    # Base case: single character sequences\n",
    "    for i in range(n):\n",
    "        if char_types[i] == 'consonant':\n",
    "            dp[1][i][1] = 1  # One way to end a length-1 sequence with a consonant\n",
    "        else:\n",
    "            dp[1][i][0] = 1  # One way to end a length-1 sequence with a vowel\n",
    "\n",
    "    # Fill DP table\n",
    "    for length in range(2, n+1):  # length of the sequence\n",
    "        for i in range(n):  # end character index of the sequence\n",
    "            for j in range(n):  # previous character index in the sequence\n",
    "                if i != j:\n",
    "                    if char_types[i] == 'consonant':\n",
    "                        dp[length][i][1] += dp[length-1][j][0]  # Append consonant to a vowel-ended sequence\n",
    "                    else:\n",
    "                        dp[length][i][0] += dp[length-1][j][1]  # Append vowel to a consonant-ended sequence\n",
    "\n",
    "    # Sum up all valid sequences of length n that start with a consonant\n",
    "    result = 0\n",
    "    for i in range(n):\n",
    "        if char_types[i] == 'consonant':\n",
    "            result += dp[n][i][1]\n",
    "\n",
    "    return result\n",
    "\n",
    "# Test example\n",
    "S = \"BAR\"\n",
    "print(count_well_structured_words(S))  # Output: 2"
   ]
  },
  {
   "cell_type": "code",
   "execution_count": null,
   "metadata": {
    "dotnet_interactive": {
     "language": "csharp"
    },
    "polyglot_notebook": {
     "kernelName": "csharp"
    },
    "vscode": {
     "languageId": "polyglot-notebook"
    }
   },
   "outputs": [],
   "source": [
    "int [] ts = new Array<Int>();"
   ]
  }
 ],
 "metadata": {
  "kernelspec": {
   "display_name": ".NET (C#)",
   "language": "C#",
   "name": ".net-csharp"
  },
  "language_info": {
   "codemirror_mode": {
    "name": "ipython",
    "version": 3
   },
   "file_extension": ".py",
   "mimetype": "text/x-python",
   "name": "python",
   "nbconvert_exporter": "python",
   "pygments_lexer": "ipython3",
   "version": "3.11.5"
  },
  "polyglot_notebook": {
   "kernelInfo": {
    "defaultKernelName": "csharp",
    "items": [
     {
      "aliases": [],
      "name": "csharp"
     }
    ]
   }
  }
 },
 "nbformat": 4,
 "nbformat_minor": 2
}
